{
 "cells": [
  {
   "cell_type": "code",
   "execution_count": 5,
   "metadata": {},
   "outputs": [
    {
     "name": "stdout",
     "output_type": "stream",
     "text": [
      "Requirement already satisfied: datasets in c:\\users\\en lih\\anaconda3\\envs\\env_pytorch\\lib\\site-packages (3.1.0)\n",
      "Requirement already satisfied: filelock in c:\\users\\en lih\\anaconda3\\envs\\env_pytorch\\lib\\site-packages (from datasets) (3.9.0)\n",
      "Requirement already satisfied: numpy>=1.17 in c:\\users\\en lih\\anaconda3\\envs\\env_pytorch\\lib\\site-packages (from datasets) (1.24.3)\n",
      "Requirement already satisfied: pyarrow>=15.0.0 in c:\\users\\en lih\\anaconda3\\envs\\env_pytorch\\lib\\site-packages (from datasets) (18.0.0)\n",
      "Requirement already satisfied: dill<0.3.9,>=0.3.0 in c:\\users\\en lih\\anaconda3\\envs\\env_pytorch\\lib\\site-packages (from datasets) (0.3.8)\n",
      "Requirement already satisfied: pandas in c:\\users\\en lih\\anaconda3\\envs\\env_pytorch\\lib\\site-packages (from datasets) (2.1.1)\n",
      "Requirement already satisfied: requests>=2.32.2 in c:\\users\\en lih\\anaconda3\\envs\\env_pytorch\\lib\\site-packages (from datasets) (2.32.3)\n",
      "Requirement already satisfied: tqdm>=4.66.3 in c:\\users\\en lih\\anaconda3\\envs\\env_pytorch\\lib\\site-packages (from datasets) (4.67.0)\n",
      "Requirement already satisfied: xxhash in c:\\users\\en lih\\anaconda3\\envs\\env_pytorch\\lib\\site-packages (from datasets) (3.5.0)\n",
      "Requirement already satisfied: multiprocess<0.70.17 in c:\\users\\en lih\\anaconda3\\envs\\env_pytorch\\lib\\site-packages (from datasets) (0.70.16)\n",
      "Requirement already satisfied: fsspec<=2024.9.0,>=2023.1.0 in c:\\users\\en lih\\anaconda3\\envs\\env_pytorch\\lib\\site-packages (from fsspec[http]<=2024.9.0,>=2023.1.0->datasets) (2023.10.0)\n",
      "Requirement already satisfied: aiohttp in c:\\users\\en lih\\anaconda3\\envs\\env_pytorch\\lib\\site-packages (from datasets) (3.10.10)\n",
      "Requirement already satisfied: huggingface-hub>=0.23.0 in c:\\users\\en lih\\anaconda3\\envs\\env_pytorch\\lib\\site-packages (from datasets) (0.26.2)\n",
      "Requirement already satisfied: packaging in c:\\users\\en lih\\anaconda3\\envs\\env_pytorch\\lib\\site-packages (from datasets) (23.1)\n",
      "Requirement already satisfied: pyyaml>=5.1 in c:\\users\\en lih\\anaconda3\\envs\\env_pytorch\\lib\\site-packages (from datasets) (6.0.1)\n",
      "Requirement already satisfied: aiohappyeyeballs>=2.3.0 in c:\\users\\en lih\\anaconda3\\envs\\env_pytorch\\lib\\site-packages (from aiohttp->datasets) (2.4.3)\n",
      "Requirement already satisfied: aiosignal>=1.1.2 in c:\\users\\en lih\\anaconda3\\envs\\env_pytorch\\lib\\site-packages (from aiohttp->datasets) (1.3.1)\n",
      "Requirement already satisfied: attrs>=17.3.0 in c:\\users\\en lih\\anaconda3\\envs\\env_pytorch\\lib\\site-packages (from aiohttp->datasets) (23.1.0)\n",
      "Requirement already satisfied: frozenlist>=1.1.1 in c:\\users\\en lih\\anaconda3\\envs\\env_pytorch\\lib\\site-packages (from aiohttp->datasets) (1.5.0)\n",
      "Requirement already satisfied: multidict<7.0,>=4.5 in c:\\users\\en lih\\anaconda3\\envs\\env_pytorch\\lib\\site-packages (from aiohttp->datasets) (6.1.0)\n",
      "Requirement already satisfied: yarl<2.0,>=1.12.0 in c:\\users\\en lih\\anaconda3\\envs\\env_pytorch\\lib\\site-packages (from aiohttp->datasets) (1.17.1)\n",
      "Requirement already satisfied: typing-extensions>=3.7.4.3 in c:\\users\\en lih\\anaconda3\\envs\\env_pytorch\\lib\\site-packages (from huggingface-hub>=0.23.0->datasets) (4.7.1)\n",
      "Requirement already satisfied: charset-normalizer<4,>=2 in c:\\users\\en lih\\anaconda3\\envs\\env_pytorch\\lib\\site-packages (from requests>=2.32.2->datasets) (2.0.4)\n",
      "Requirement already satisfied: idna<4,>=2.5 in c:\\users\\en lih\\anaconda3\\envs\\env_pytorch\\lib\\site-packages (from requests>=2.32.2->datasets) (3.4)\n",
      "Requirement already satisfied: urllib3<3,>=1.21.1 in c:\\users\\en lih\\anaconda3\\envs\\env_pytorch\\lib\\site-packages (from requests>=2.32.2->datasets) (1.26.18)\n",
      "Requirement already satisfied: certifi>=2017.4.17 in c:\\users\\en lih\\anaconda3\\envs\\env_pytorch\\lib\\site-packages (from requests>=2.32.2->datasets) (2023.7.22)\n",
      "Requirement already satisfied: colorama in c:\\users\\en lih\\anaconda3\\envs\\env_pytorch\\lib\\site-packages (from tqdm>=4.66.3->datasets) (0.4.6)\n",
      "Requirement already satisfied: python-dateutil>=2.8.2 in c:\\users\\en lih\\anaconda3\\envs\\env_pytorch\\lib\\site-packages (from pandas->datasets) (2.8.2)\n",
      "Requirement already satisfied: pytz>=2020.1 in c:\\users\\en lih\\anaconda3\\envs\\env_pytorch\\lib\\site-packages (from pandas->datasets) (2023.3.post1)\n",
      "Requirement already satisfied: tzdata>=2022.1 in c:\\users\\en lih\\anaconda3\\envs\\env_pytorch\\lib\\site-packages (from pandas->datasets) (2023.3)\n",
      "Requirement already satisfied: six>=1.5 in c:\\users\\en lih\\anaconda3\\envs\\env_pytorch\\lib\\site-packages (from python-dateutil>=2.8.2->pandas->datasets) (1.16.0)\n",
      "Requirement already satisfied: propcache>=0.2.0 in c:\\users\\en lih\\anaconda3\\envs\\env_pytorch\\lib\\site-packages (from yarl<2.0,>=1.12.0->aiohttp->datasets) (0.2.0)\n",
      "Requirement already satisfied: gensim in c:\\users\\en lih\\anaconda3\\envs\\env_pytorch\\lib\\site-packages (4.3.3)\n",
      "Requirement already satisfied: numpy<2.0,>=1.18.5 in c:\\users\\en lih\\anaconda3\\envs\\env_pytorch\\lib\\site-packages (from gensim) (1.24.3)\n",
      "Requirement already satisfied: scipy<1.14.0,>=1.7.0 in c:\\users\\en lih\\anaconda3\\envs\\env_pytorch\\lib\\site-packages (from gensim) (1.11.3)\n",
      "Requirement already satisfied: smart-open>=1.8.1 in c:\\users\\en lih\\anaconda3\\envs\\env_pytorch\\lib\\site-packages (from gensim) (7.0.5)\n",
      "Requirement already satisfied: wrapt in c:\\users\\en lih\\anaconda3\\envs\\env_pytorch\\lib\\site-packages (from smart-open>=1.8.1->gensim) (1.16.0)\n",
      "Requirement already satisfied: seqeval in c:\\users\\en lih\\anaconda3\\envs\\env_pytorch\\lib\\site-packages (1.2.2)\n",
      "Requirement already satisfied: numpy>=1.14.0 in c:\\users\\en lih\\anaconda3\\envs\\env_pytorch\\lib\\site-packages (from seqeval) (1.24.3)\n",
      "Requirement already satisfied: scikit-learn>=0.21.3 in c:\\users\\en lih\\anaconda3\\envs\\env_pytorch\\lib\\site-packages (from seqeval) (1.3.0)\n",
      "Requirement already satisfied: scipy>=1.5.0 in c:\\users\\en lih\\anaconda3\\envs\\env_pytorch\\lib\\site-packages (from scikit-learn>=0.21.3->seqeval) (1.11.3)\n",
      "Requirement already satisfied: joblib>=1.1.1 in c:\\users\\en lih\\anaconda3\\envs\\env_pytorch\\lib\\site-packages (from scikit-learn>=0.21.3->seqeval) (1.2.0)\n",
      "Requirement already satisfied: threadpoolctl>=2.0.0 in c:\\users\\en lih\\anaconda3\\envs\\env_pytorch\\lib\\site-packages (from scikit-learn>=0.21.3->seqeval) (2.2.0)\n",
      "Requirement already satisfied: torch in c:\\users\\en lih\\anaconda3\\envs\\env_pytorch\\lib\\site-packages (2.1.0)\n",
      "Requirement already satisfied: filelock in c:\\users\\en lih\\anaconda3\\envs\\env_pytorch\\lib\\site-packages (from torch) (3.9.0)\n",
      "Requirement already satisfied: typing-extensions in c:\\users\\en lih\\anaconda3\\envs\\env_pytorch\\lib\\site-packages (from torch) (4.7.1)\n",
      "Requirement already satisfied: sympy in c:\\users\\en lih\\anaconda3\\envs\\env_pytorch\\lib\\site-packages (from torch) (1.11.1)\n",
      "Requirement already satisfied: networkx in c:\\users\\en lih\\anaconda3\\envs\\env_pytorch\\lib\\site-packages (from torch) (3.1)\n",
      "Requirement already satisfied: jinja2 in c:\\users\\en lih\\anaconda3\\envs\\env_pytorch\\lib\\site-packages (from torch) (3.1.2)\n",
      "Requirement already satisfied: fsspec in c:\\users\\en lih\\anaconda3\\envs\\env_pytorch\\lib\\site-packages (from torch) (2023.10.0)\n",
      "Requirement already satisfied: MarkupSafe>=2.0 in c:\\users\\en lih\\anaconda3\\envs\\env_pytorch\\lib\\site-packages (from jinja2->torch) (2.1.1)\n",
      "Requirement already satisfied: mpmath>=0.19 in c:\\users\\en lih\\anaconda3\\envs\\env_pytorch\\lib\\site-packages (from sympy->torch) (1.3.0)\n",
      "Requirement already satisfied: transformers in c:\\users\\en lih\\anaconda3\\envs\\env_pytorch\\lib\\site-packages (4.35.0)\n",
      "Requirement already satisfied: filelock in c:\\users\\en lih\\anaconda3\\envs\\env_pytorch\\lib\\site-packages (from transformers) (3.9.0)\n",
      "Requirement already satisfied: huggingface-hub<1.0,>=0.16.4 in c:\\users\\en lih\\anaconda3\\envs\\env_pytorch\\lib\\site-packages (from transformers) (0.26.2)\n",
      "Requirement already satisfied: numpy>=1.17 in c:\\users\\en lih\\anaconda3\\envs\\env_pytorch\\lib\\site-packages (from transformers) (1.24.3)\n",
      "Requirement already satisfied: packaging>=20.0 in c:\\users\\en lih\\anaconda3\\envs\\env_pytorch\\lib\\site-packages (from transformers) (23.1)\n",
      "Requirement already satisfied: pyyaml>=5.1 in c:\\users\\en lih\\anaconda3\\envs\\env_pytorch\\lib\\site-packages (from transformers) (6.0.1)\n",
      "Requirement already satisfied: regex!=2019.12.17 in c:\\users\\en lih\\anaconda3\\envs\\env_pytorch\\lib\\site-packages (from transformers) (2023.10.3)\n",
      "Requirement already satisfied: requests in c:\\users\\en lih\\anaconda3\\envs\\env_pytorch\\lib\\site-packages (from transformers) (2.32.3)\n",
      "Requirement already satisfied: tokenizers<0.15,>=0.14 in c:\\users\\en lih\\anaconda3\\envs\\env_pytorch\\lib\\site-packages (from transformers) (0.14.1)\n",
      "Requirement already satisfied: safetensors>=0.3.1 in c:\\users\\en lih\\anaconda3\\envs\\env_pytorch\\lib\\site-packages (from transformers) (0.4.0)\n",
      "Requirement already satisfied: tqdm>=4.27 in c:\\users\\en lih\\anaconda3\\envs\\env_pytorch\\lib\\site-packages (from transformers) (4.67.0)\n",
      "Requirement already satisfied: fsspec>=2023.5.0 in c:\\users\\en lih\\anaconda3\\envs\\env_pytorch\\lib\\site-packages (from huggingface-hub<1.0,>=0.16.4->transformers) (2023.10.0)\n",
      "Requirement already satisfied: typing-extensions>=3.7.4.3 in c:\\users\\en lih\\anaconda3\\envs\\env_pytorch\\lib\\site-packages (from huggingface-hub<1.0,>=0.16.4->transformers) (4.7.1)\n",
      "Collecting huggingface-hub<1.0,>=0.16.4 (from transformers)\n",
      "  Using cached huggingface_hub-0.17.3-py3-none-any.whl.metadata (13 kB)\n",
      "Requirement already satisfied: colorama in c:\\users\\en lih\\anaconda3\\envs\\env_pytorch\\lib\\site-packages (from tqdm>=4.27->transformers) (0.4.6)\n",
      "Requirement already satisfied: charset-normalizer<4,>=2 in c:\\users\\en lih\\anaconda3\\envs\\env_pytorch\\lib\\site-packages (from requests->transformers) (2.0.4)\n",
      "Requirement already satisfied: idna<4,>=2.5 in c:\\users\\en lih\\anaconda3\\envs\\env_pytorch\\lib\\site-packages (from requests->transformers) (3.4)\n",
      "Requirement already satisfied: urllib3<3,>=1.21.1 in c:\\users\\en lih\\anaconda3\\envs\\env_pytorch\\lib\\site-packages (from requests->transformers) (1.26.18)\n",
      "Requirement already satisfied: certifi>=2017.4.17 in c:\\users\\en lih\\anaconda3\\envs\\env_pytorch\\lib\\site-packages (from requests->transformers) (2023.7.22)\n",
      "Using cached huggingface_hub-0.17.3-py3-none-any.whl (295 kB)\n",
      "Installing collected packages: huggingface-hub\n",
      "  Attempting uninstall: huggingface-hub\n",
      "    Found existing installation: huggingface-hub 0.26.2\n",
      "    Uninstalling huggingface-hub-0.26.2:\n",
      "      Successfully uninstalled huggingface-hub-0.26.2\n",
      "Successfully installed huggingface-hub-0.17.3\n"
     ]
    },
    {
     "name": "stderr",
     "output_type": "stream",
     "text": [
      "ERROR: pip's dependency resolver does not currently take into account all the packages that are installed. This behaviour is the source of the following dependency conflicts.\n",
      "datasets 3.1.0 requires huggingface-hub>=0.23.0, but you have huggingface-hub 0.17.3 which is incompatible.\n"
     ]
    }
   ],
   "source": [
    "!pip install datasets\n",
    "!pip install gensim\n",
    "!pip install seqeval\n",
    "!pip install torch\n",
    "!pip install transformers"
   ]
  },
  {
   "cell_type": "code",
   "execution_count": 6,
   "metadata": {},
   "outputs": [],
   "source": [
    "import pandas as pd\n",
    "import numpy as np\n",
    "import os\n",
    "import gensim\n",
    "import gensim.downloader as api\n",
    "import torch\n",
    "import torch.nn as nn\n",
    "import torch.optim as optim\n",
    "import matplotlib.pyplot as plt\n",
    "\n",
    "from transformers import AutoModel, AutoTokenizer\n",
    "from torch.utils.data import DataLoader, Dataset\n",
    "from torch.nn.utils.rnn import pad_sequence, pack_padded_sequence, pad_packed_sequence\n",
    "from gensim.utils import simple_preprocess\n",
    "from gensim.models import KeyedVectors\n",
    "from datasets import load_dataset\n",
    "from collections import Counter\n",
    "from itertools import product"
   ]
  },
  {
   "cell_type": "code",
   "execution_count": 10,
   "metadata": {},
   "outputs": [
    {
     "name": "stdout",
     "output_type": "stream",
     "text": [
      "Using device: cuda\n"
     ]
    }
   ],
   "source": [
    "# Set device\n",
    "device = torch.device(\"cuda\" if torch.cuda.is_available() else \"cpu\")\n",
    "print(f\"Using device: {device}\")"
   ]
  },
  {
   "cell_type": "code",
   "execution_count": 38,
   "metadata": {},
   "outputs": [],
   "source": [
    "# Load Rotten Tomatoes dataset\n",
    "dataset = load_dataset(\"rotten_tomatoes\")\n",
    "train_dataset = dataset['train']\n",
    "validation_dataset = dataset['validation']\n",
    "test_dataset = dataset['test']"
   ]
  },
  {
   "cell_type": "markdown",
   "metadata": {},
   "source": [
    "# Part 3.5 Methods to make improvements from previous models "
   ]
  },
  {
   "cell_type": "markdown",
   "metadata": {},
   "source": [
    "Here, we will replace the FastText pre-trained embeddings with BERT pre-trained embeddings and use it in conjunction with a BiLSTM with Dropout sentiment classification model\n",
    "\n",
    "Reasons and Comparisons between using FastText and BERT pre-trained embeddings with BiLSTM\n",
    "\n",
    "```1. BERT embeddings are contextual (dynamic) while FastText embeddings are static. Since sentiment analysis requires understanding in nuanced meanings and relationships in text, BERT is able to capture this which FastText is unable to```\n",
    "\n",
    "```2. BERT has more robustness compared to FastText as it virtually eliminates OOV words by using WordPiece tokenizer to further break unknown words into subword units.```\n",
    "\n",
    "```3. BiLSTM complements together with BERT because BiLSTM models are able to capture relationships between tokens over long distances in a sentence which is useful for tasks like sentiment analysis. Furthermore, with the implementation of dropout, it prevents overfitting especially when fine-tuning on small datasets like Rotten Tomatoes.```\n"
   ]
  },
  {
   "cell_type": "markdown",
   "metadata": {},
   "source": [
    "## Load BERT model and pre-trained embeddings"
   ]
  },
  {
   "cell_type": "markdown",
   "metadata": {},
   "source": [
    "We wiil load the pre-trained embeddings and unfreeze the parameters similarly to previous parts to allow it to update during the training process."
   ]
  },
  {
   "cell_type": "code",
   "execution_count": null,
   "metadata": {},
   "outputs": [],
   "source": [
    "# Load pre-trained BERT model from transformers library\n",
    "model_name = \"bert-base-uncased\"\n",
    "tokenizer = AutoTokenizer.from_pretrained(model_name)\n",
    "bert_model = AutoModel.from_pretrained(model_name).to(device)\n",
    "\n",
    "# Unfreeze all parameters of the pretrained model\n",
    "for param in bert_model.parameters():\n",
    "\tparam.requires_grad = True"
   ]
  },
  {
   "cell_type": "markdown",
   "metadata": {},
   "source": [
    "## Tokenize the Rotten Tomatoes dataset"
   ]
  },
  {
   "cell_type": "code",
   "execution_count": null,
   "metadata": {},
   "outputs": [],
   "source": [
    "# Tokenizer and maximum sequence length\n",
    "max_len = 128\n",
    "\n",
    "# Function to preprocess the dataset\n",
    "def preprocess_dataset(dataset_split, tokenizer):\n",
    "\ttexts = [example['text'] for example in dataset_split]\n",
    "\tlabels = [example['label'] for example in dataset_split]\n",
    "\ttokenized_data = []\n",
    "\n",
    "\tfor text in texts:\n",
    "\t\tinputs = tokenizer(\n",
    "\t\t\ttext,\n",
    "\t\t\treturn_tensors=\"pt\",\n",
    "\t\t\ttruncation=True,\n",
    "\t\t\tpadding=\"max_length\",\n",
    "\t\t\tmax_length=max_len,\n",
    "\t\t)\n",
    "\t\ttokenized_data.append({\n",
    "\t\t\t\"input_ids\": inputs[\"input_ids\"].squeeze(0),\n",
    "\t\t\t\"attention_mask\": inputs[\"attention_mask\"].squeeze(0)\n",
    "\t\t})\n",
    "\t\n",
    "\treturn tokenized_data, labels\n",
    "\n",
    "# Preprocess train, validation, and test datasets\n",
    "train_texts, train_labels = preprocess_dataset(train_dataset, tokenizer)\n",
    "val_texts, val_labels = preprocess_dataset(validation_dataset, tokenizer)\n",
    "test_texts, test_labels = preprocess_dataset(test_dataset, tokenizer)\n"
   ]
  },
  {
   "cell_type": "markdown",
   "metadata": {},
   "source": [
    "## Define the new SentimentDataset class "
   ]
  },
  {
   "cell_type": "markdown",
   "metadata": {},
   "source": [
    "The SentimentDataset class is different from the previous parts as we need it to fit into the transformer architecture "
   ]
  },
  {
   "cell_type": "code",
   "execution_count": null,
   "metadata": {},
   "outputs": [],
   "source": [
    "class SentimentDataset(Dataset):\n",
    "\tdef __init__(self, texts, labels):\n",
    "\t\tself.texts = texts\n",
    "\t\tself.labels = labels\n",
    "\n",
    "\tdef __len__(self):\n",
    "\t\treturn len(self.texts)\n",
    "\n",
    "\tdef __getitem__(self, idx):\n",
    "\t\treturn {\n",
    "\t\t\t\"input_ids\": self.texts[idx][\"input_ids\"],\n",
    "\t\t\t\"attention_mask\": self.texts[idx][\"attention_mask\"],\n",
    "\t\t\t\"label\": torch.tensor(self.labels[idx], dtype=torch.long)\n",
    "\t\t}"
   ]
  },
  {
   "cell_type": "markdown",
   "metadata": {},
   "source": [
    "## Attention Mechnism for BiLSTM Model"
   ]
  },
  {
   "cell_type": "code",
   "execution_count": 52,
   "metadata": {},
   "outputs": [],
   "source": [
    "class Attention(nn.Module):\n",
    "    def __init__(self, hidden_dim):\n",
    "        super(Attention, self).__init__()\n",
    "        self.attention = nn.Linear(hidden_dim * 2, 1)  # BiLSTM has hidden_dim * 2\n",
    "        self.softmax = nn.Softmax(dim=1)\n",
    "\n",
    "    def forward(self, lstm_output):\n",
    "        # lstm_output: (batch_size, seq_len, hidden_dim * 2)\n",
    "        attn_weights = self.attention(lstm_output)  # (batch_size, seq_len, 1)\n",
    "        attn_weights = self.softmax(attn_weights.squeeze(-1))  # (batch_size, seq_len)\n",
    "\n",
    "        # Weighted sum of LSTM outputs\n",
    "        weighted_output = torch.bmm(attn_weights.unsqueeze(1), lstm_output)  # (batch_size, 1, hidden_dim * 2)\n",
    "        return weighted_output.squeeze(1), attn_weights"
   ]
  },
  {
   "cell_type": "markdown",
   "metadata": {},
   "source": [
    "## Attention BiLSTM Model with Dropout with BERT Embeddings"
   ]
  },
  {
   "cell_type": "code",
   "execution_count": 55,
   "metadata": {},
   "outputs": [],
   "source": [
    "class AttentionBiLSTM(nn.Module):\n",
    "    def __init__(self, bert_dim, hidden_dim, output_dim=2, num_layers=2, dropout=0.5):\n",
    "        super(AttentionBiLSTM, self).__init__()\n",
    "        \n",
    "        # BiLSTM layer\n",
    "        self.rnn = nn.LSTM(\n",
    "            bert_dim,  # Input size from BERT embeddings\n",
    "            hidden_dim,\n",
    "            num_layers=num_layers,\n",
    "            bidirectional=True,\n",
    "            batch_first=True,\n",
    "            dropout=dropout\n",
    "        )\n",
    "        \n",
    "        # Attention layer\n",
    "        self.attention = Attention(hidden_dim)\n",
    "        \n",
    "        # Fully connected layer\n",
    "        self.fc = nn.Linear(hidden_dim * 2, output_dim)  # Output is binary (0, 1)\n",
    "        self.dropout = nn.Dropout(dropout)\n",
    "\n",
    "    def forward(self, pretrained_embeddings):\n",
    "        # Pass BERT embeddings through BiLSTM\n",
    "        lstm_output, _ = self.rnn(pretrained_embeddings)  # lstm_output: (batch_size, seq_len, hidden_dim * 2)\n",
    "        \n",
    "        # Apply attention\n",
    "        attn_output, attn_weights = self.attention(lstm_output)  # attn_output: (batch_size, hidden_dim * 2)\n",
    "        \n",
    "        # Pass through the fully connected layer\n",
    "        output = self.dropout(attn_output)\n",
    "        logits = self.fc(output)  # logits for classification\n",
    "        return logits, attn_weights"
   ]
  },
  {
   "cell_type": "markdown",
   "metadata": {},
   "source": [
    "## Helper Functions for training process"
   ]
  },
  {
   "cell_type": "code",
   "execution_count": null,
   "metadata": {},
   "outputs": [],
   "source": [
    "# Function to get pretrained embeddings from BERT during training\n",
    "def get_pretrained_embeddings(batch, pretrained_model):\n",
    "\t# Extract contextual embeddings from BERT for a batch of text\n",
    "\tinput_ids = batch[\"input_ids\"].to(device)\n",
    "\tattention_mask = batch[\"attention_mask\"].to(device)\n",
    "\n",
    "\twith torch.no_grad():\n",
    "\t\toutputs = pretrained_model(input_ids=input_ids, attention_mask=attention_mask)\n",
    "\n",
    "\treturn outputs.last_hidden_state  # Shape: (batch_size, seq_len, bert_dim)"
   ]
  },
  {
   "cell_type": "code",
   "execution_count": null,
   "metadata": {},
   "outputs": [],
   "source": [
    "# Function to create the plots for analysis\n",
    "def plot_metrics(train_losses, train_accuracies, test_losses, test_accuracies, val_losses, val_accuracies):\n",
    "\tepochs = range(1, len(train_losses) + 1)\n",
    "\n",
    "\tplt.figure(figsize=(15, 5))\n",
    "\n",
    "\t# Loss Plot\n",
    "\tplt.subplot(1, 2, 1)\n",
    "\tplt.plot(epochs, train_losses, label='Train Loss', marker = 'o', color = 'blue')\n",
    "\tplt.plot(epochs, test_losses, label='Test Loss', marker = 'o', color = 'green')\n",
    "\tplt.plot(epochs, val_losses, label='Validation Loss', marker = 'o', color = 'red')\n",
    "\tplt.xlabel('Epochs')\n",
    "\tplt.ylabel('Loss')\n",
    "\tplt.title('Loss vs. Epochs')\n",
    "\tplt.legend()\n",
    "\tplt.grid(True)\n",
    "\n",
    "\t# Accuracy Plot\n",
    "\tplt.subplot(1, 2, 2)\n",
    "\tplt.plot(epochs, train_accuracies, label='Train Accuracy', marker = 'o', color = 'blue')\n",
    "\tplt.plot(epochs, test_accuracies, label='Test Accuracy', marker = 'o', color = 'green')\n",
    "\tplt.plot(epochs, val_accuracies, label='Validation Accuracy', marker = 'o', color = 'red')\n",
    "\tplt.xlabel('Epochs')\n",
    "\tplt.ylabel('Accuracy')\n",
    "\tplt.title('Accuracy vs. Epochs')\n",
    "\tplt.legend()\n",
    "\tplt.grid(True)\n",
    "\n",
    "\tplt.tight_layout()\n",
    "\tplt.show()"
   ]
  },
  {
   "cell_type": "markdown",
   "metadata": {},
   "source": [
    "## Initialise hyperparameters for model and training"
   ]
  },
  {
   "cell_type": "code",
   "execution_count": 43,
   "metadata": {},
   "outputs": [],
   "source": [
    "batch_size = 32\n",
    "hidden_dim = 128 # Reduced hidden dimension\n",
    "output_dim = 2 # Binary classification (positive/negative sentiment)\n",
    "learning_rate = 0.0001 # Reduced learning rate to prevent overfitting\n",
    "epochs = 100"
   ]
  },
  {
   "cell_type": "code",
   "execution_count": 44,
   "metadata": {},
   "outputs": [],
   "source": [
    "# Create DataLoaders\n",
    "train_dataset = SentimentDataset(train_texts, train_labels)\n",
    "val_dataset = SentimentDataset(val_texts, val_labels)\n",
    "test_dataset = SentimentDataset(test_texts, test_labels)\n",
    "\n",
    "train_loader = DataLoader(train_dataset, batch_size=batch_size, shuffle=True)\n",
    "val_loader = DataLoader(val_dataset, batch_size=batch_size, shuffle=False)\n",
    "test_loader = DataLoader(test_dataset, batch_size=batch_size, shuffle=False)"
   ]
  },
  {
   "cell_type": "code",
   "execution_count": 56,
   "metadata": {},
   "outputs": [],
   "source": [
    "# Get the BERT hidden dimension size\n",
    "bert_dim = bert_model.config.hidden_size\n",
    "\n",
    "# Initialize the model\n",
    "model = AttentionBiLSTM(bert_dim=bert_dim, hidden_dim=hidden_dim, output_dim=output_dim).to(device)\n",
    "\n",
    "# Define Optimizer, Loss Function, and Early Stopping\n",
    "criterion = nn.CrossEntropyLoss()\n",
    "optimizer = torch.optim.Adam(model.parameters(), lr=learning_rate)"
   ]
  },
  {
   "cell_type": "code",
   "execution_count": null,
   "metadata": {},
   "outputs": [],
   "source": [
    "# Function to evaluate model performance\n",
    "def evaluate_model(model, data_loader, pretrained_model):\n",
    "    model.eval()\n",
    "    total_loss = 0\n",
    "    correct_predictions = 0\n",
    "\n",
    "    with torch.no_grad():\n",
    "        for batch in data_loader:\n",
    "            input_ids = batch[\"input_ids\"].to(device)\n",
    "            attention_mask = batch[\"attention_mask\"].to(device)\n",
    "            labels = batch[\"label\"].to(device)\n",
    "\n",
    "            # Extract BERT embeddings\n",
    "            pretrained_embeddings = get_pretrained_embeddings(batch, pretrained_model).to(device)\n",
    "\n",
    "            # Forward pass\n",
    "            outputs, attn_weights = model(pretrained_embeddings)  # Unpack logits and attention weights\n",
    "            loss = criterion(outputs, labels)  # Pass only logits to the loss function\n",
    "\n",
    "            total_loss += loss.item()\n",
    "            correct_predictions += (outputs.argmax(1) == labels).sum().item()\n",
    "\n",
    "    return total_loss / len(data_loader), correct_predictions / len(data_loader.dataset)"
   ]
  },
  {
   "cell_type": "code",
   "execution_count": 59,
   "metadata": {},
   "outputs": [
    {
     "name": "stdout",
     "output_type": "stream",
     "text": [
      "Epoch 1:\n",
      "  Train Loss: 0.3901, Train Accuracy: 0.8234\n",
      "  Test Loss: 0.4208, Test Accuracy: 0.8011\n",
      "  Val Loss: 0.3803, Val Accuracy: 0.8321\n",
      "  Validation accuracy improved to 0.8321. Model saved.\n",
      "Epoch 2:\n",
      "  Train Loss: 0.3647, Train Accuracy: 0.8406\n",
      "  Test Loss: 0.4111, Test Accuracy: 0.8086\n",
      "  Val Loss: 0.3762, Val Accuracy: 0.8293\n",
      "  No improvement for 1 epoch(s).\n",
      "Epoch 3:\n",
      "  Train Loss: 0.3445, Train Accuracy: 0.8513\n",
      "  Test Loss: 0.4175, Test Accuracy: 0.8124\n",
      "  Val Loss: 0.3785, Val Accuracy: 0.8255\n",
      "  No improvement for 2 epoch(s).\n",
      "Epoch 4:\n",
      "  Train Loss: 0.3294, Train Accuracy: 0.8557\n",
      "  Test Loss: 0.4169, Test Accuracy: 0.8105\n",
      "  Val Loss: 0.3652, Val Accuracy: 0.8349\n",
      "  Validation accuracy improved to 0.8349. Model saved.\n",
      "Epoch 5:\n",
      "  Train Loss: 0.3108, Train Accuracy: 0.8644\n",
      "  Test Loss: 0.4614, Test Accuracy: 0.7946\n",
      "  Val Loss: 0.4164, Val Accuracy: 0.8189\n",
      "  No improvement for 1 epoch(s).\n",
      "Epoch 6:\n",
      "  Train Loss: 0.2950, Train Accuracy: 0.8740\n",
      "  Test Loss: 0.4289, Test Accuracy: 0.8199\n",
      "  Val Loss: 0.3829, Val Accuracy: 0.8283\n",
      "  No improvement for 2 epoch(s).\n",
      "Epoch 7:\n",
      "  Train Loss: 0.2649, Train Accuracy: 0.8886\n",
      "  Test Loss: 0.4814, Test Accuracy: 0.8030\n",
      "  Val Loss: 0.4333, Val Accuracy: 0.8199\n",
      "  No improvement for 3 epoch(s).\n",
      "Epoch 8:\n",
      "  Train Loss: 0.2397, Train Accuracy: 0.9011\n",
      "  Test Loss: 0.5475, Test Accuracy: 0.7964\n",
      "  Val Loss: 0.5026, Val Accuracy: 0.8227\n",
      "  No improvement for 4 epoch(s).\n",
      "Epoch 9:\n",
      "  Train Loss: 0.2117, Train Accuracy: 0.9129\n",
      "  Test Loss: 0.5217, Test Accuracy: 0.8133\n",
      "  Val Loss: 0.4864, Val Accuracy: 0.8321\n",
      "  No improvement for 5 epoch(s).\n",
      "Early stopping triggered.\n",
      "Best model loaded for evaluation.\n"
     ]
    }
   ],
   "source": [
    "# Early stopping parameters\n",
    "early_stopping_patience = 5 # Number of epochs to wait for improvement\n",
    "best_val_accuracy = 0  # Track the best validation accuracy\n",
    "no_improve_epochs = 0  # Count epochs without improvement\n",
    "\n",
    "# Lists to store metrics for plotting\n",
    "train_losses, train_accuracies = [], []\n",
    "val_losses, val_accuracies = [], []\n",
    "test_losses, test_accuracies = [], []\n",
    "\n",
    "# Training with Early Stopping\n",
    "for epoch in range(epochs):\n",
    "    model.train()\n",
    "    total_loss = 0\n",
    "    correct_predictions = 0\n",
    "\n",
    "    for batch in train_loader:\n",
    "        input_ids = batch[\"input_ids\"].to(device)\n",
    "        attention_mask = batch[\"attention_mask\"].to(device)\n",
    "        labels = batch[\"label\"].to(device)\n",
    "\n",
    "        # Extract BERT embeddings\n",
    "        pretrained_embeddings = get_pretrained_embeddings(batch, bert_model).to(device)\n",
    "\n",
    "        # Forward pass\n",
    "        outputs, attn_weights = model(pretrained_embeddings)\n",
    "        loss = criterion(outputs, labels)\n",
    "        \n",
    "        # Backward pass\n",
    "        optimizer.zero_grad()\n",
    "        loss.backward()\n",
    "        optimizer.step()\n",
    "\n",
    "        total_loss += loss.item()\n",
    "        correct_predictions += (outputs.argmax(1) == labels).sum().item()\n",
    "    \n",
    "    train_accuracy = correct_predictions / len(train_loader.dataset)\n",
    "    train_loss = total_loss / len(train_loader)\n",
    "\n",
    "    # Validate the model\n",
    "    val_loss, val_accuracy = evaluate_model(model, val_loader, bert_model)\n",
    "\n",
    "    # Log metrics for this epoch\n",
    "    train_losses.append(train_loss)\n",
    "    train_accuracies.append(train_accuracy)\n",
    "    val_losses.append(val_loss)\n",
    "    val_accuracies.append(val_accuracy)\n",
    "\n",
    "    # Evaluate on test set\n",
    "    test_loss, test_accuracy = evaluate_model(model, test_loader, bert_model)\n",
    "    test_losses.append(test_loss)\n",
    "    test_accuracies.append(test_accuracy)\n",
    "\n",
    "    print(f\"Epoch {epoch + 1}:\")\n",
    "    print(f\"  Train Loss: {train_loss:.4f}, Train Accuracy: {train_accuracy:.4f}\")\n",
    "    print(f\"  Test Loss: {test_loss:.4f}, Test Accuracy: {test_accuracy:.4f}\")\n",
    "    print(f\"  Val Loss: {val_loss:.4f}, Val Accuracy: {val_accuracy:.4f}\")\n",
    "\n",
    "    # Early stopping logic\n",
    "    if val_accuracy > best_val_accuracy:\n",
    "        best_val_accuracy = val_accuracy\n",
    "        no_improve_epochs = 0\n",
    "        torch.save(model.state_dict(), \"best_model_BiLSTM_BERT.pt\")\n",
    "        print(f\"  Validation accuracy improved to {val_accuracy:.4f}. Model saved.\")\n",
    "    else:\n",
    "        no_improve_epochs += 1\n",
    "        print(f\"  No improvement for {no_improve_epochs} epoch(s).\")\n",
    "\n",
    "        if no_improve_epochs >= early_stopping_patience:\n",
    "            print(\"Early stopping triggered.\")\n",
    "            break\n",
    "\n",
    "# Load the best model after early stopping\n",
    "model.load_state_dict(torch.load(\"best_model_BiLSTM_BERT.pt\"))\n",
    "print(\"Best model loaded for evaluation.\")"
   ]
  },
  {
   "cell_type": "code",
   "execution_count": 60,
   "metadata": {},
   "outputs": [
    {
     "data": {
      "image/png": "[encoded data removed]",
      "text/plain": [
       "<Figure size 1500x500 with 2 Axes>"
      ]
     },
     "metadata": {},
     "output_type": "display_data"
    }
   ],
   "source": [
    "# Plotting Loss and Accuracy against Epochs\n",
    "plot_metrics(train_losses, train_accuracies, test_losses, test_accuracies, val_losses, val_accuracies)"
   ]
  },
  {
   "cell_type": "code",
   "execution_count": 61,
   "metadata": {},
   "outputs": [
    {
     "name": "stdout",
     "output_type": "stream",
     "text": [
      "Validation Loss: 0.3652, Validation Accuracy: 0.8349\n"
     ]
    }
   ],
   "source": [
    "# Final evaluation on the validation set to compare whether model is correct\n",
    "val_loss, val_accuracy = evaluate_model(model, val_loader, bert_model)\n",
    "print(f\"Validation Loss: {val_loss:.4f}, Validation Accuracy: {val_accuracy:.4f}\")"
   ]
  },
  {
   "cell_type": "code",
   "execution_count": 62,
   "metadata": {},
   "outputs": [
    {
     "name": "stdout",
     "output_type": "stream",
     "text": [
      "Test Loss: 0.4169, Test Accuracy: 0.8105\n"
     ]
    }
   ],
   "source": [
    "# Evaluate on test set\n",
    "test_loss, test_accuracy = evaluate_model(model, test_loader, bert_model)\n",
    "print(f\"Test Loss: {test_loss:.4f}, Test Accuracy: {test_accuracy:.4f}\")  "
   ]
  },
  {
   "cell_type": "markdown",
   "metadata": {},
   "source": [
    "## Answers to Question 3(e) and 3(f)"
   ]
  },
  {
   "cell_type": "markdown",
   "metadata": {},
   "source": [
    "## 3(e) Describe your final improvement strategy in Part 3.5. Report the accuracy on the test set using your improved model"
   ]
  },
  {
   "cell_type": "markdown",
   "metadata": {},
   "source": [
    "## Final Result\n",
    "| Method              | Test Accuracy | \n",
    "|---------------------|-----------------------|\n",
    "| Attention BiLSTM Model with Dropout    | **0.8105**             | \n",
    "\n",
    "## Final Improvement Strategy for Part 3.5\n",
    "\n",
    "---\n",
    "\n",
    "### Model Architecture\n",
    "1. **BERT Embeddings**:\n",
    "   - Provides **contextualised word embeddings** that adapt based on the word's meaning in the sentence.\n",
    "   - Example: The word \"bank\" in \"river bank\" vs. \"money in the bank\" will have different embeddings, capturing its context dynamically.\n",
    "\n",
    "2. **BiLSTM Layer with Dropout**:\n",
    "   - Captures **bidirectional dependencies** by processing the input sequence both forward and backward.\n",
    "   - Ensures the model understands relationships between words in the entire sequence, not just in one direction.\n",
    "   - Dropout after attention prevents overfitting when learning from high-dimensional BERT embeddings and reduces reliance on specific patterns in the data.\n",
    "\n",
    "3. **BERT + BiLSTM Combination**\n",
    "\t- **BERT embeddings** provide **rich contextual information**, ensuring that word representations are sensitive to their context.\n",
    "\t- **BiLSTM** captures **sequential patterns** and **bidirectional relationships** in the text, complementing BERT's static embeddings for each sequence.\n",
    "\n",
    "4. **Combined Attention Mechanism**:\n",
    "   - Applied to the **merged output** of forward and backward BiLSTM states.\n",
    "   - Attention addresses the challenges of:\n",
    "     - **Long-Range Dependencies**:\n",
    "       Traditional models often fail to connect distant words due to vanishing gradients or fixed receptive fields (e.g., in CNNs).\n",
    "       Attention allows the model to selectively focus on relevant words, regardless of their distance in the sequence.\n",
    "     - **Context Understanding**:\n",
    "       Attention assigns weights to tokens, enabling the model to emphasise critical words or phrases dynamically based on their relevance.\n",
    "       Example: For sentiment analysis, the model might focus on words like \"excellent\" or \"horrible\" while ignoring filler words like \"the\" or \"and.\"\n",
    "   - Improves interpretability by providing insight into which tokens contribute most to predictions.\n",
    "\n",
    "5. **Fully Connected Layer**:\n",
    "   - Processes the attention-weighted token representations and outputs the sentiment classification (e.g., positive or negative).\n",
    "\n",
    "---\n",
    "\n",
    "### Summary\n",
    "This architecture combines **BERT embeddings**, **BiLSTM layers**, and a **combined attention mechanism** to:\n",
    "- Address the limitations of traditional models in capturing **long-range dependencies**.\n",
    "- Dynamically assign focus to **relevant tokens**, improving context understanding and interpretability.\n",
    "- Regularise the model with **dropout**, ensuring robust generalisation.\n",
    "\n",
    "Hence, through these components we are able to achieve a test accuracy of ```81.05%``` which is the highest among all the models we have trained and analysed.\n"
   ]
  },
  {
   "cell_type": "markdown",
   "metadata": {},
   "source": [
    "## 3(f) Compare the results across different solutions above and describe your observations with possible discussions"
   ]
  },
  {
   "cell_type": "markdown",
   "metadata": {},
   "source": [
    "### Result from Part 3.2\n",
    "| Method              | Test Accuracy in Part 2 | Test Accuracy in Part 3.1 | Test Accuracy in Part 3.2 |\n",
    "|---------------------|-----------------------|-------------------------|-------------------------|\n",
    "| RNN Last State      | 0.6135               | 0.7167               | 0.7261 |\n",
    "\n",
    "---\n",
    "\n",
    "### Result from Part 3.3\n",
    "| Method              | Test Accuracy (2 Layers) | Test Accuracy (3 Layers) | Test Accuracy (4 Layers) |\n",
    "|---------------------|-----------------------|-------------------------|-------------------------|\n",
    "| BiLSTM Model              | 0.7402               | 0.7411               | 0.7430                         |\n",
    "| BiLSTM with Dropout Model | 0.7523               | 0.7533               | 0.7570                         |\n",
    "| BiGRU Model               | 0.7533               | 0.7345               | 0.7420                         |\n",
    "\n",
    "---\n",
    "\n",
    "### Result from Part 3.4\n",
    "| Method              | Test Accuracy | \n",
    "|---------------------|-----------------------|\n",
    "| CNN Model    | 0.7833              | \n",
    "\n",
    "---\n",
    "\n",
    "### Result from Part 3.5\n",
    "| Method              | Test Accuracy | \n",
    "|---------------------|-----------------------|\n",
    "| Attention BiLSTM Model with Dropout    | **0.8105**             | \n",
    "\n",
    "---\n",
    "\n",
    "### Why It Works Better\n",
    "\n",
    "#### 1. Comparison to Models analysed from previous parts\n",
    "\n",
    "| **Feature**               | **RNN**         | **CNN**         | **BiLSTM**      | **Combined Attention BiLSTM + BERT** |\n",
    "|----------------------------|-----------------|-----------------|-----------------|--------------------------------------|\n",
    "| **Embedding Type**         | FastText (static) | FastText (static) | FastText (static) | BERT (contextual)                   |\n",
    "| **Contextual Awareness**   | Limited         | Limited         | Bidirectional   | Bidirectional + Contextual          |\n",
    "| **Focus on Relevant Tokens**| Uniform         | Local (n-grams) | Uniform         | Attention on most relevant tokens   |\n",
    "| **Handling Long Sequences**| Poor            | Fixed receptive field | Good       | Excellent                           |\n",
    "| **Interpretability**       | Limited         | Limited         | Limited         | High (via attention weights)        |\n",
    "\n",
    "#### 2. Key Advantages\n",
    "1. **Contextual Embeddings (BERT vs. FastText)**:\n",
    "   - FastText embeddings are **static** and fail to adapt to context.\n",
    "   - BERT embeddings are **dynamic**, improving handling of ambiguity and complex sentences.\n",
    "\n",
    "2. **Relevance via Attention**:\n",
    "   - Attention mechanism focuses on the most critical tokens in the sequence, reducing noise.\n",
    "\n",
    "3. **Bidirectionality**:\n",
    "   - BiLSTM captures both forward and backward dependencies, while attention emphasizes their most important aspects.\n",
    "\n",
    "### Conclusion\n",
    "The **Combined Attention BiLSTM + BERT Embeddings** model outperforms the standalone RNNs, CNNs, BiLSTM, and BiGRU with FastText embeddings with the highest accuracy of ```81.05%```\n",
    "\n",
    "These are the key summary points how this model surpassed the other models:\n",
    "- Leveraging **BERT embeddings** for contextual understanding.\n",
    "- Focusing on **relevant tokens** via the attention mechanism.\n",
    "- Efficiently utilizing **bidirectional dependencies**.\n",
    "- Providing better generalization with **dropout regularization**."
   ]
  }
 ],
 "metadata": {
  "kernelspec": {
   "display_name": "env_pytorch",
   "language": "python",
   "name": "python3"
  },
  "language_info": {
   "codemirror_mode": {
    "name": "ipython",
    "version": 3
   },
   "file_extension": ".py",
   "mimetype": "text/x-python",
   "name": "python",
   "nbconvert_exporter": "python",
   "pygments_lexer": "ipython3",
   "version": "3.11.5"
  }
 },
 "nbformat": 4,
 "nbformat_minor": 2
}
