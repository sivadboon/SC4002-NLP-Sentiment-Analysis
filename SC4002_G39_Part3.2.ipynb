{
 "cells": [
  {
   "cell_type": "code",
   "execution_count": null,
   "metadata": {},
   "outputs": [
    {
     "name": "stdout",
     "output_type": "stream",
     "text": [
      "Requirement already satisfied: datasets in c:\\users\\en lih\\anaconda3\\envs\\env_pytorch\\lib\\site-packages (3.1.0)\n",
      "Requirement already satisfied: filelock in c:\\users\\en lih\\anaconda3\\envs\\env_pytorch\\lib\\site-packages (from datasets) (3.9.0)\n",
      "Requirement already satisfied: numpy>=1.17 in c:\\users\\en lih\\anaconda3\\envs\\env_pytorch\\lib\\site-packages (from datasets) (1.24.3)\n",
      "Requirement already satisfied: pyarrow>=15.0.0 in c:\\users\\en lih\\anaconda3\\envs\\env_pytorch\\lib\\site-packages (from datasets) (18.0.0)\n",
      "Requirement already satisfied: dill<0.3.9,>=0.3.0 in c:\\users\\en lih\\anaconda3\\envs\\env_pytorch\\lib\\site-packages (from datasets) (0.3.8)\n",
      "Requirement already satisfied: pandas in c:\\users\\en lih\\anaconda3\\envs\\env_pytorch\\lib\\site-packages (from datasets) (2.1.1)\n",
      "Requirement already satisfied: requests>=2.32.2 in c:\\users\\en lih\\anaconda3\\envs\\env_pytorch\\lib\\site-packages (from datasets) (2.32.3)\n",
      "Requirement already satisfied: tqdm>=4.66.3 in c:\\users\\en lih\\anaconda3\\envs\\env_pytorch\\lib\\site-packages (from datasets) (4.67.0)\n",
      "Requirement already satisfied: xxhash in c:\\users\\en lih\\anaconda3\\envs\\env_pytorch\\lib\\site-packages (from datasets) (3.5.0)\n",
      "Requirement already satisfied: multiprocess<0.70.17 in c:\\users\\en lih\\anaconda3\\envs\\env_pytorch\\lib\\site-packages (from datasets) (0.70.16)\n",
      "Requirement already satisfied: fsspec<=2024.9.0,>=2023.1.0 in c:\\users\\en lih\\anaconda3\\envs\\env_pytorch\\lib\\site-packages (from fsspec[http]<=2024.9.0,>=2023.1.0->datasets) (2023.10.0)\n",
      "Requirement already satisfied: aiohttp in c:\\users\\en lih\\anaconda3\\envs\\env_pytorch\\lib\\site-packages (from datasets) (3.10.10)\n",
      "Requirement already satisfied: huggingface-hub>=0.23.0 in c:\\users\\en lih\\anaconda3\\envs\\env_pytorch\\lib\\site-packages (from datasets) (0.26.2)\n",
      "Requirement already satisfied: packaging in c:\\users\\en lih\\anaconda3\\envs\\env_pytorch\\lib\\site-packages (from datasets) (23.1)\n",
      "Requirement already satisfied: pyyaml>=5.1 in c:\\users\\en lih\\anaconda3\\envs\\env_pytorch\\lib\\site-packages (from datasets) (6.0.1)\n",
      "Requirement already satisfied: aiohappyeyeballs>=2.3.0 in c:\\users\\en lih\\anaconda3\\envs\\env_pytorch\\lib\\site-packages (from aiohttp->datasets) (2.4.3)\n",
      "Requirement already satisfied: aiosignal>=1.1.2 in c:\\users\\en lih\\anaconda3\\envs\\env_pytorch\\lib\\site-packages (from aiohttp->datasets) (1.3.1)\n",
      "Requirement already satisfied: attrs>=17.3.0 in c:\\users\\en lih\\anaconda3\\envs\\env_pytorch\\lib\\site-packages (from aiohttp->datasets) (23.1.0)\n",
      "Requirement already satisfied: frozenlist>=1.1.1 in c:\\users\\en lih\\anaconda3\\envs\\env_pytorch\\lib\\site-packages (from aiohttp->datasets) (1.5.0)\n",
      "Requirement already satisfied: multidict<7.0,>=4.5 in c:\\users\\en lih\\anaconda3\\envs\\env_pytorch\\lib\\site-packages (from aiohttp->datasets) (6.1.0)\n",
      "Requirement already satisfied: yarl<2.0,>=1.12.0 in c:\\users\\en lih\\anaconda3\\envs\\env_pytorch\\lib\\site-packages (from aiohttp->datasets) (1.17.1)\n",
      "Requirement already satisfied: typing-extensions>=3.7.4.3 in c:\\users\\en lih\\anaconda3\\envs\\env_pytorch\\lib\\site-packages (from huggingface-hub>=0.23.0->datasets) (4.7.1)\n",
      "Requirement already satisfied: charset-normalizer<4,>=2 in c:\\users\\en lih\\anaconda3\\envs\\env_pytorch\\lib\\site-packages (from requests>=2.32.2->datasets) (2.0.4)\n",
      "Requirement already satisfied: idna<4,>=2.5 in c:\\users\\en lih\\anaconda3\\envs\\env_pytorch\\lib\\site-packages (from requests>=2.32.2->datasets) (3.4)\n",
      "Requirement already satisfied: urllib3<3,>=1.21.1 in c:\\users\\en lih\\anaconda3\\envs\\env_pytorch\\lib\\site-packages (from requests>=2.32.2->datasets) (1.26.18)\n",
      "Requirement already satisfied: certifi>=2017.4.17 in c:\\users\\en lih\\anaconda3\\envs\\env_pytorch\\lib\\site-packages (from requests>=2.32.2->datasets) (2023.7.22)\n",
      "Requirement already satisfied: colorama in c:\\users\\en lih\\anaconda3\\envs\\env_pytorch\\lib\\site-packages (from tqdm>=4.66.3->datasets) (0.4.6)\n",
      "Requirement already satisfied: python-dateutil>=2.8.2 in c:\\users\\en lih\\anaconda3\\envs\\env_pytorch\\lib\\site-packages (from pandas->datasets) (2.8.2)\n",
      "Requirement already satisfied: pytz>=2020.1 in c:\\users\\en lih\\anaconda3\\envs\\env_pytorch\\lib\\site-packages (from pandas->datasets) (2023.3.post1)\n",
      "Requirement already satisfied: tzdata>=2022.1 in c:\\users\\en lih\\anaconda3\\envs\\env_pytorch\\lib\\site-packages (from pandas->datasets) (2023.3)\n",
      "Requirement already satisfied: six>=1.5 in c:\\users\\en lih\\anaconda3\\envs\\env_pytorch\\lib\\site-packages (from python-dateutil>=2.8.2->pandas->datasets) (1.16.0)\n",
      "Requirement already satisfied: propcache>=0.2.0 in c:\\users\\en lih\\anaconda3\\envs\\env_pytorch\\lib\\site-packages (from yarl<2.0,>=1.12.0->aiohttp->datasets) (0.2.0)\n",
      "Requirement already satisfied: gensim in c:\\users\\en lih\\anaconda3\\envs\\env_pytorch\\lib\\site-packages (4.3.3)\n",
      "Requirement already satisfied: numpy<2.0,>=1.18.5 in c:\\users\\en lih\\anaconda3\\envs\\env_pytorch\\lib\\site-packages (from gensim) (1.24.3)\n",
      "Requirement already satisfied: scipy<1.14.0,>=1.7.0 in c:\\users\\en lih\\anaconda3\\envs\\env_pytorch\\lib\\site-packages (from gensim) (1.11.3)\n",
      "Requirement already satisfied: smart-open>=1.8.1 in c:\\users\\en lih\\anaconda3\\envs\\env_pytorch\\lib\\site-packages (from gensim) (7.0.5)\n",
      "Requirement already satisfied: wrapt in c:\\users\\en lih\\anaconda3\\envs\\env_pytorch\\lib\\site-packages (from smart-open>=1.8.1->gensim) (1.16.0)\n",
      "Requirement already satisfied: seqeval in c:\\users\\en lih\\anaconda3\\envs\\env_pytorch\\lib\\site-packages (1.2.2)\n",
      "Requirement already satisfied: numpy>=1.14.0 in c:\\users\\en lih\\anaconda3\\envs\\env_pytorch\\lib\\site-packages (from seqeval) (1.24.3)\n",
      "Requirement already satisfied: scikit-learn>=0.21.3 in c:\\users\\en lih\\anaconda3\\envs\\env_pytorch\\lib\\site-packages (from seqeval) (1.3.0)\n",
      "Requirement already satisfied: scipy>=1.5.0 in c:\\users\\en lih\\anaconda3\\envs\\env_pytorch\\lib\\site-packages (from scikit-learn>=0.21.3->seqeval) (1.11.3)\n",
      "Requirement already satisfied: joblib>=1.1.1 in c:\\users\\en lih\\anaconda3\\envs\\env_pytorch\\lib\\site-packages (from scikit-learn>=0.21.3->seqeval) (1.2.0)\n",
      "Requirement already satisfied: threadpoolctl>=2.0.0 in c:\\users\\en lih\\anaconda3\\envs\\env_pytorch\\lib\\site-packages (from scikit-learn>=0.21.3->seqeval) (2.2.0)\n",
      "Requirement already satisfied: torch in c:\\users\\en lih\\anaconda3\\envs\\env_pytorch\\lib\\site-packages (2.1.0)\n",
      "Requirement already satisfied: filelock in c:\\users\\en lih\\anaconda3\\envs\\env_pytorch\\lib\\site-packages (from torch) (3.9.0)\n",
      "Requirement already satisfied: typing-extensions in c:\\users\\en lih\\anaconda3\\envs\\env_pytorch\\lib\\site-packages (from torch) (4.7.1)\n",
      "Requirement already satisfied: sympy in c:\\users\\en lih\\anaconda3\\envs\\env_pytorch\\lib\\site-packages (from torch) (1.11.1)\n",
      "Requirement already satisfied: networkx in c:\\users\\en lih\\anaconda3\\envs\\env_pytorch\\lib\\site-packages (from torch) (3.1)\n",
      "Requirement already satisfied: jinja2 in c:\\users\\en lih\\anaconda3\\envs\\env_pytorch\\lib\\site-packages (from torch) (3.1.2)\n",
      "Requirement already satisfied: fsspec in c:\\users\\en lih\\anaconda3\\envs\\env_pytorch\\lib\\site-packages (from torch) (2023.10.0)\n",
      "Requirement already satisfied: MarkupSafe>=2.0 in c:\\users\\en lih\\anaconda3\\envs\\env_pytorch\\lib\\site-packages (from jinja2->torch) (2.1.1)\n",
      "Requirement already satisfied: mpmath>=0.19 in c:\\users\\en lih\\anaconda3\\envs\\env_pytorch\\lib\\site-packages (from sympy->torch) (1.3.0)\n"
     ]
    }
   ],
   "source": [
    "# Installing missing libraries\n",
    "!pip install datasets\n",
    "!pip install gensim\n",
    "!pip install seqeval\n",
    "!pip install torch"
   ]
  },
  {
   "cell_type": "code",
   "execution_count": 1,
   "metadata": {},
   "outputs": [],
   "source": [
    "import pandas as pd\n",
    "import numpy as np\n",
    "import os\n",
    "import gensim\n",
    "import gensim.downloader as api\n",
    "import torch\n",
    "import torch.nn as nn\n",
    "import torch.optim as optim\n",
    "import matplotlib.pyplot as plt\n",
    "\n",
    "from torch.utils.data import DataLoader, Dataset\n",
    "from torch.nn.utils.rnn import pad_sequence, pack_padded_sequence, pad_packed_sequence\n",
    "from gensim.utils import simple_preprocess\n",
    "from gensim.models import KeyedVectors\n",
    "from datasets import load_dataset\n",
    "from collections import Counter\n",
    "from itertools import product"
   ]
  },
  {
   "cell_type": "code",
   "execution_count": 2,
   "metadata": {},
   "outputs": [],
   "source": [
    "# Load Rotten Tomatoes dataset\n",
    "dataset = load_dataset(\"rotten_tomatoes\")\n",
    "train_dataset = dataset['train']\n",
    "validation_dataset = dataset['validation']\n",
    "test_dataset = dataset['test']"
   ]
  },
  {
   "cell_type": "code",
   "execution_count": 65,
   "metadata": {},
   "outputs": [
    {
     "name": "stdout",
     "output_type": "stream",
     "text": [
      "Using device: cuda\n"
     ]
    }
   ],
   "source": [
    "device = torch.device(\"cuda\" if torch.cuda.is_available() else \"cpu\")\n",
    "print(f\"Using device: {device}\")"
   ]
  },
  {
   "cell_type": "markdown",
   "metadata": {},
   "source": [
    "## Dataset Preparation (derivations from Part 1)\n"
   ]
  },
  {
   "cell_type": "code",
   "execution_count": 4,
   "metadata": {},
   "outputs": [],
   "source": [
    "# Function to preprocess the text\n",
    "def preprocess_text(text):\n",
    "    return simple_preprocess(text, deacc=True)  # deacc = True -> remove accent marks e.g. café to cafe\n",
    "\n",
    "# Preprocess the training dataset\n",
    "train_tokens = [preprocess_text(example['text']) for example in train_dataset]\n",
    "\n",
    "# Iterate through the train dataset tokens and get the unique words to build vocabulary\n",
    "vocab_counter = Counter([word for tokens in train_tokens for word in tokens])\n",
    "train_vocab = list(vocab_counter.keys())\n",
    "\n",
    "# File Path to directory to store the pre-defined models (change as necessary)\n",
    "model_dir_path = \"models\"\n",
    "\n",
    "# Load the Wiki FastText vectors from the .vec file (will take a few minutes to run)\n",
    "wiki_fasttext_model = KeyedVectors.load_word2vec_format(os.path.join(model_dir_path, \"wiki.en.vec\"), binary=False)"
   ]
  },
  {
   "cell_type": "markdown",
   "metadata": {},
   "source": [
    "## Creating the Embedding Matrix from the FastText pretrained vectors"
   ]
  },
  {
   "cell_type": "markdown",
   "metadata": {},
   "source": [
    "We will now create the embedding matrix using the FastText pretrained vectors and for the remaining 240 OOV words (from part 1), we will take initialise the vectors using the normalised values from the vocabulary.\n",
    "\n",
    "We want to keep the random embeddings close to zero, ensuring less variance in OOV word representation. Hence, we will assign the scale to have a value of ```0.2```"
   ]
  },
  {
   "cell_type": "code",
   "execution_count": null,
   "metadata": {},
   "outputs": [
    {
     "name": "stdout",
     "output_type": "stream",
     "text": [
      "Embedding matrix shape: (16256, 300)\n"
     ]
    }
   ],
   "source": [
    "embedding_dim = wiki_fasttext_model.vector_size  # Get the FastText embedding dimension\n",
    "\n",
    "# Initialize the embedding matrix with zeros\n",
    "embedding_matrix = np.zeros((len(train_vocab), embedding_dim))\n",
    "\n",
    "# Fill the embedding matrix\n",
    "for idx, word in enumerate(train_vocab):\n",
    "    if word in wiki_fasttext_model:\n",
    "        # Use FastText embedding\n",
    "        embedding_matrix[idx] = wiki_fasttext_model[word]  \n",
    "    else:\n",
    "        # Random initialisation for out-of-vocabulary (OOV) words\n",
    "        embedding_matrix[idx] = np.random.normal(scale=0.2, size=(embedding_dim,))\n",
    "\n",
    "# Print shape of the embedding matrix for debugging\n",
    "print(f\"Embedding matrix shape: {embedding_matrix.shape}\")"
   ]
  },
  {
   "cell_type": "markdown",
   "metadata": {},
   "source": [
    "## Define the SentimentDataset Class and Collate Function"
   ]
  },
  {
   "cell_type": "code",
   "execution_count": 6,
   "metadata": {},
   "outputs": [],
   "source": [
    "class SentimentDataset(Dataset):\n",
    "    def __init__(self, texts, labels, vocab):\n",
    "        self.texts = texts\n",
    "        self.labels = labels\n",
    "        self.vocab = vocab\n",
    "\n",
    "    def __len__(self):\n",
    "        return len(self.labels)\n",
    "\n",
    "    def __getitem__(self, idx):\n",
    "        # Convert each token in the sentence to its corresponding index, 0 for unknown words\n",
    "        tokens = self.texts[idx].split()\n",
    "        embedding_indices = [self.vocab.get(word, 0) for word in tokens]\n",
    "        label = self.labels[idx]\n",
    "\n",
    "        # Skip any sequences that are effectively empty\n",
    "        if len(embedding_indices) == 0 or all(index == 0 for index in embedding_indices):\n",
    "            return None\n",
    "        return torch.tensor(embedding_indices, dtype=torch.long), torch.tensor(label, dtype=torch.long)\n",
    "\n",
    "\n",
    "def collate_fn(batch):\n",
    "    # Filter out None values\n",
    "    batch = [item for item in batch if item is not None]\n",
    "    if len(batch) == 0:\n",
    "        return None, None\n",
    "\n",
    "    texts, labels = zip(*batch)\n",
    "    texts = pad_sequence(texts, batch_first=True, padding_value=0)  # Pad sequences with 0\n",
    "    labels = torch.stack(labels)\n",
    "    return texts, labels"
   ]
  },
  {
   "cell_type": "markdown",
   "metadata": {},
   "source": [
    "## Prepare datasets for dataloader"
   ]
  },
  {
   "cell_type": "code",
   "execution_count": 7,
   "metadata": {},
   "outputs": [],
   "source": [
    "# Replace these with actual dataset texts and labels\n",
    "train_texts = train_dataset['text']\n",
    "train_labels = train_dataset['label']\n",
    "val_texts = validation_dataset['text']\n",
    "val_labels = validation_dataset['label']\n",
    "test_texts = test_dataset['text']\n",
    "test_labels = test_dataset['label']\n",
    "\n",
    "# Create vocabulary to index mapping (from Part 1)\n",
    "vocab_to_index = {word: idx for idx, word in enumerate(train_vocab)}\n",
    "\n",
    "# Instantiate datasets\n",
    "train_data = SentimentDataset(train_texts, train_labels, vocab_to_index)\n",
    "val_data = SentimentDataset(val_texts, val_labels, vocab_to_index)\n",
    "test_data = SentimentDataset(test_texts, test_labels, vocab_to_index)"
   ]
  },
  {
   "cell_type": "markdown",
   "metadata": {},
   "source": [
    "## RNN Model"
   ]
  },
  {
   "cell_type": "markdown",
   "metadata": {},
   "source": [
    "### Define RNN Model"
   ]
  },
  {
   "cell_type": "markdown",
   "metadata": {},
   "source": [
    "In this question, we will unfreeze the embedding matrix of the pre-trained vectors of the FastText and analyse the difference in the accuracy scores including part 2 and 3.1 for our best model, ```Last Hidden Layer RNN```"
   ]
  },
  {
   "cell_type": "code",
   "execution_count": 8,
   "metadata": {},
   "outputs": [],
   "source": [
    "class SentimentRNN(nn.Module):\n",
    "    def __init__(self, embedding_matrix, hidden_dim, output_dim, pooling_strategy, dropout=0.5):\n",
    "        super(SentimentRNN, self).__init__()\n",
    "        num_embeddings, embedding_dim = embedding_matrix.shape\n",
    "        self.embedding = nn.Embedding.from_pretrained(torch.FloatTensor(embedding_matrix), freeze=False) # Set freeze=False to let word embeddings to be updated\n",
    "        self.rnn = nn.RNN(embedding_dim, hidden_dim, batch_first=True)\n",
    "        self.dropout = nn.Dropout(dropout)\n",
    "        self.fc = nn.Linear(hidden_dim, output_dim)\n",
    "        self.pooling_strategy = pooling_strategy\n",
    "\n",
    "    def forward(self, text):\n",
    "        lengths = (text != 0).sum(dim=1)\n",
    "        lengths, perm_idx = lengths.sort(0, descending=True)\n",
    "        text = text[perm_idx]\n",
    "\n",
    "        embedded = self.embedding(text)\n",
    "        packed_embedded = pack_padded_sequence(embedded, lengths.cpu(), batch_first=True, enforce_sorted=True)\n",
    "\n",
    "        packed_output, hidden = self.rnn(packed_embedded)\n",
    "        output, _ = pad_packed_sequence(packed_output, batch_first=True)\n",
    "\n",
    "        # Apply the selected pooling strategy\n",
    "        if self.pooling_strategy == 'last':\n",
    "            hidden = hidden.squeeze(0)\n",
    "            sentence_representation = hidden[perm_idx.argsort()]\n",
    "        elif self.pooling_strategy == 'max':\n",
    "            sentence_representation, _ = torch.max(output, dim=1)\n",
    "        elif self.pooling_strategy == 'mean':\n",
    "            sentence_representation = torch.mean(output, dim=1)\n",
    "        elif self.pooling_strategy == 'max + mean':\n",
    "            max_pooled, _ = torch.max(output, dim=1)\n",
    "            mean_pooled = torch.mean(output, dim=1)\n",
    "            sentence_representation = (max_pooled + mean_pooled) / 2\n",
    "\n",
    "        # Pass through the fully connected layer\n",
    "        sentence_representation = self.dropout(sentence_representation)\n",
    "        return self.fc(sentence_representation)"
   ]
  },
  {
   "cell_type": "markdown",
   "metadata": {},
   "source": [
    "## Training and Evaluation Helper Functions"
   ]
  },
  {
   "cell_type": "code",
   "execution_count": 9,
   "metadata": {},
   "outputs": [],
   "source": [
    "# Function to save model\n",
    "def save_model(model, model_save_path):\n",
    "    try:\n",
    "        # Save the model directly (it overwrites the file if it exists)\n",
    "        torch.save(model.state_dict(), model_save_path)\n",
    "        print(\"Model saved.\")\n",
    "    except Exception as e:\n",
    "        print(f\"Failed to save model to {model_save_path}: {e}\")\n",
    "\n",
    "# Training function\n",
    "def train(model, loader, optimizer, criterion):\n",
    "    model.train()\n",
    "    total_loss, total_correct = 0, 0\n",
    "    for texts, labels in loader:\n",
    "        # Skip empty batches\n",
    "        if texts is None or labels is None:\n",
    "            continue\n",
    "        optimizer.zero_grad()\n",
    "        outputs = model(texts)\n",
    "        loss = criterion(outputs, labels)\n",
    "        loss.backward()\n",
    "\n",
    "        # Apply gradient clipping\n",
    "        torch.nn.utils.clip_grad_norm_(model.parameters(), max_norm=1)\n",
    "\n",
    "        optimizer.step()\n",
    "        total_loss += loss.item()\n",
    "        total_correct += (outputs.argmax(1) == labels).sum().item()\n",
    "\n",
    "    return total_loss / len(loader), total_correct / len(loader.dataset)\n",
    "\n",
    "# Evaluation function\n",
    "def evaluate(model, loader, criterion):\n",
    "    model.eval()\n",
    "    total_loss, total_correct = 0, 0\n",
    "\n",
    "    with torch.no_grad():\n",
    "        for texts, labels in loader:\n",
    "          # Skip empty batches\n",
    "          if texts is None or labels is None:\n",
    "              continue\n",
    "          outputs = model(texts)\n",
    "          loss = criterion(outputs, labels)\n",
    "          total_loss += loss.item()\n",
    "          total_correct += (outputs.argmax(1) == labels).sum().item()\n",
    "\n",
    "    return total_loss / len(loader), total_correct / len(loader.dataset)\n",
    "\n",
    "# Function for the whole model training and evaluation process\n",
    "def train_and_evaluate(\n",
    "    model,\n",
    "    train_loader,\n",
    "    test_loader,\n",
    "    val_loader,\n",
    "    optimizer,\n",
    "    criterion,\n",
    "    epochs=100,\n",
    "    early_stopping_patience=10,\n",
    "    pooling_strategy=None,\n",
    "    load_best_model=False\n",
    "):\n",
    "    print(f\"Training with pooling strategy: {pooling_strategy}\")\n",
    "\n",
    "    # Ensure the model uses the correct pooling strategy\n",
    "    model.pooling_strategy = pooling_strategy\n",
    "\n",
    "    best_val_accuracy = 0\n",
    "    no_improve_epochs = 0\n",
    "\n",
    "    # Initialising Data Structures\n",
    "    train_losses, train_accuracies = [], []\n",
    "    test_losses, test_accuracies = [], []\n",
    "    val_losses, val_accuracies = [], []\n",
    "\n",
    "    # Train the model within specified number of epochs\n",
    "    for epoch in range(epochs):\n",
    "\n",
    "        train_loss, train_accuracy = train(model, train_loader, optimizer, criterion)\n",
    "        test_loss, test_accuracy = evaluate(model, test_loader, criterion)\n",
    "        val_loss, val_accuracy = evaluate(model, val_loader, criterion)\n",
    "\n",
    "        # Append values to list\n",
    "        train_losses.append(train_loss)\n",
    "        train_accuracies.append(train_accuracy)\n",
    "        test_losses.append(test_loss)\n",
    "        test_accuracies.append(test_accuracy)\n",
    "        val_losses.append(val_loss)\n",
    "        val_accuracies.append(val_accuracy)\n",
    "\n",
    "        # Print epoch metrics\n",
    "        print(f\"\\nEpoch {epoch + 1}/{epochs}\")\n",
    "        print(f\"Train Loss: {train_loss:.4f}, Train Accuracy: {train_accuracy:.4f}\")\n",
    "        print(f\"Test Loss: {test_loss:.4f}, Test Accuracy: {test_accuracy:.4f}\")\n",
    "        print(f\"Val Loss: {val_loss:.4f}, Val Accuracy: {val_accuracy:.4f}\")\n",
    "\n",
    "        # Early stopping logic\n",
    "        if val_accuracy > best_val_accuracy:\n",
    "            best_val_accuracy = val_accuracy\n",
    "            no_improve_epochs = 0\n",
    "            save_model(model, os.path.join(os.getcwd(), f'best_model_{pooling_strategy}.pt'))\n",
    "        else:\n",
    "            no_improve_epochs += 1\n",
    "            print(f\"No improvement for {no_improve_epochs} epochs.\")\n",
    "            if no_improve_epochs >= early_stopping_patience:\n",
    "                print(f\"Early stopping triggered at epoch {epoch+1} due to no improvement.\")\n",
    "                break\n",
    "    \n",
    "    # Load the best model\n",
    "    if load_best_model:\n",
    "        path = os.path.join(os.getcwd(), f'best_model_{pooling_strategy}.pt')\n",
    "        with open(path, 'rb') as f:\n",
    "            model.load_state_dict(torch.load(f))\n",
    "        print(\"Best Model Loaded.\")\n",
    "\n",
    "    return train_losses, train_accuracies, test_losses, test_accuracies, val_losses, val_accuracies"
   ]
  },
  {
   "cell_type": "code",
   "execution_count": 10,
   "metadata": {},
   "outputs": [],
   "source": [
    "# Function to create the plots for analysis\n",
    "def plot_metrics(train_losses, train_accuracies, test_losses, test_accuracies, val_losses, val_accuracies):\n",
    "    epochs = range(1, len(train_losses) + 1)\n",
    "\n",
    "    plt.figure(figsize=(15, 5))\n",
    "\n",
    "    # Loss Plot\n",
    "    plt.subplot(1, 2, 1)\n",
    "    plt.plot(epochs, train_losses, label='Train Loss', marker = 'o', color = 'blue')\n",
    "    plt.plot(epochs, test_losses, label='Test Loss', marker = 'o', color = 'green')\n",
    "    plt.plot(epochs, val_losses, label='Validation Loss', marker = 'o', color = 'red')\n",
    "    plt.xlabel('Epochs')\n",
    "    plt.ylabel('Loss')\n",
    "    plt.title('Loss vs. Epochs')\n",
    "    plt.legend()\n",
    "    plt.grid(True)\n",
    "\n",
    "    # Accuracy Plot\n",
    "    plt.subplot(1, 2, 2)\n",
    "    plt.plot(epochs, train_accuracies, label='Train Accuracy', marker = 'o', color = 'blue')\n",
    "    plt.plot(epochs, test_accuracies, label='Test Accuracy', marker = 'o', color = 'green')\n",
    "    plt.plot(epochs, val_accuracies, label='Validation Accuracy', marker = 'o', color = 'red')\n",
    "    plt.xlabel('Epochs')\n",
    "    plt.ylabel('Accuracy')\n",
    "    plt.title('Accuracy vs. Epochs')\n",
    "    plt.legend()\n",
    "    plt.grid(True)\n",
    "\n",
    "    plt.tight_layout()\n",
    "    plt.show()"
   ]
  },
  {
   "cell_type": "markdown",
   "metadata": {},
   "source": [
    "## Initialize parameters and prepare DataLoaders"
   ]
  },
  {
   "cell_type": "code",
   "execution_count": 11,
   "metadata": {},
   "outputs": [],
   "source": [
    "# Adjusted hyperparameters based on Part 2\n",
    "batch_size = 32\n",
    "hidden_dim = 128  # Reduced hidden dimension\n",
    "output_dim = 2    # Binary classification (positive/negative sentiment)\n",
    "learning_rate = 0.001\n",
    "weight_decay = 1e-4\n",
    "epochs = 100"
   ]
  },
  {
   "cell_type": "code",
   "execution_count": 12,
   "metadata": {},
   "outputs": [],
   "source": [
    "# Data loaders with collate function\n",
    "train_loader = DataLoader(train_data, batch_size=batch_size, shuffle=True, collate_fn=collate_fn)\n",
    "val_loader = DataLoader(val_data, batch_size=batch_size, collate_fn=collate_fn)\n",
    "test_loader = DataLoader(test_data, batch_size=batch_size, collate_fn=collate_fn)"
   ]
  },
  {
   "cell_type": "markdown",
   "metadata": {},
   "source": [
    "## Best RNN Model (Last Hidden Layer)\n"
   ]
  },
  {
   "cell_type": "markdown",
   "metadata": {},
   "source": [
    "### Instantiate Model, Optimiser, and Loss Function"
   ]
  },
  {
   "cell_type": "code",
   "execution_count": 54,
   "metadata": {},
   "outputs": [],
   "source": [
    "# Initialising RNN Model (last hidden layer) and model's parameters\n",
    "pooling_strategy = 'last'\n",
    "model = SentimentRNN(embedding_matrix, hidden_dim, output_dim, pooling_strategy)\n",
    "optimizer = torch.optim.Adam(model.parameters(), lr=learning_rate,weight_decay=weight_decay)\n",
    "criterion = nn.CrossEntropyLoss()"
   ]
  },
  {
   "cell_type": "code",
   "execution_count": 55,
   "metadata": {},
   "outputs": [
    {
     "name": "stdout",
     "output_type": "stream",
     "text": [
      "Training with pooling strategy: last\n",
      "\n",
      "Epoch 1/100\n",
      "Train Loss: 0.6237, Train Accuracy: 0.6518\n",
      "Test Loss: 0.5521, Test Accuracy: 0.7242\n",
      "Val Loss: 0.5805, Val Accuracy: 0.7045\n",
      "Model saved.\n",
      "\n",
      "Epoch 2/100\n",
      "Train Loss: 0.4760, Train Accuracy: 0.7865\n",
      "Test Loss: 0.5627, Test Accuracy: 0.7261\n",
      "Val Loss: 0.5913, Val Accuracy: 0.7083\n",
      "Model saved.\n",
      "\n",
      "Epoch 3/100\n",
      "Train Loss: 0.3438, Train Accuracy: 0.8576\n",
      "Test Loss: 0.6212, Test Accuracy: 0.7261\n",
      "Val Loss: 0.6768, Val Accuracy: 0.6895\n",
      "No improvement for 1 epochs.\n",
      "\n",
      "Epoch 4/100\n",
      "Train Loss: 0.2305, Train Accuracy: 0.9100\n",
      "Test Loss: 0.8439, Test Accuracy: 0.7280\n",
      "Val Loss: 0.9140, Val Accuracy: 0.7026\n",
      "No improvement for 2 epochs.\n",
      "\n",
      "Epoch 5/100\n",
      "Train Loss: 0.1647, Train Accuracy: 0.9370\n",
      "Test Loss: 0.8690, Test Accuracy: 0.6886\n",
      "Val Loss: 0.8835, Val Accuracy: 0.6829\n",
      "No improvement for 3 epochs.\n",
      "\n",
      "Epoch 6/100\n",
      "Train Loss: 0.1187, Train Accuracy: 0.9536\n",
      "Test Loss: 1.0810, Test Accuracy: 0.6970\n",
      "Val Loss: 1.2040, Val Accuracy: 0.6792\n",
      "No improvement for 4 epochs.\n",
      "\n",
      "Epoch 7/100\n",
      "Train Loss: 0.1089, Train Accuracy: 0.9581\n",
      "Test Loss: 1.1668, Test Accuracy: 0.6735\n",
      "Val Loss: 1.2214, Val Accuracy: 0.6726\n",
      "No improvement for 5 epochs.\n",
      "Early stopping triggered at epoch 7 due to no improvement.\n",
      "Best Model Loaded.\n"
     ]
    }
   ],
   "source": [
    "# Train the model with early stopping\n",
    "train_losses, train_accuracies, test_losses, test_accuracies, val_losses, val_accuracies = train_and_evaluate(\n",
    "    model,\n",
    "    train_loader,\n",
    "    test_loader,\n",
    "    val_loader,\n",
    "    optimizer,\n",
    "    criterion,\n",
    "    epochs=epochs,\n",
    "    early_stopping_patience=5,\n",
    "    pooling_strategy=pooling_strategy,\n",
    "    load_best_model=True)"
   ]
  },
  {
   "cell_type": "code",
   "execution_count": 56,
   "metadata": {},
   "outputs": [
    {
     "data": {
      "image/png": "[encoded data removed]",
      "text/plain": [
       "<Figure size 1500x500 with 2 Axes>"
      ]
     },
     "metadata": {},
     "output_type": "display_data"
    }
   ],
   "source": [
    "# Plotting Loss and Accuracy against Epochs\n",
    "plot_metrics(train_losses, train_accuracies, test_losses, test_accuracies, val_losses, val_accuracies)"
   ]
  },
  {
   "cell_type": "code",
   "execution_count": 57,
   "metadata": {},
   "outputs": [
    {
     "name": "stdout",
     "output_type": "stream",
     "text": [
      "Validation Loss: 0.5913, Validation Accuracy: 0.7083\n"
     ]
    }
   ],
   "source": [
    "# Final evaluation on the validation set to compare whether model is correct\n",
    "last_val_loss, last_val_accuracy = evaluate(model, val_loader, criterion)\n",
    "print(f\"Validation Loss: {last_val_loss:.4f}, Validation Accuracy: {last_val_accuracy:.4f}\")"
   ]
  },
  {
   "cell_type": "code",
   "execution_count": 58,
   "metadata": {},
   "outputs": [
    {
     "name": "stdout",
     "output_type": "stream",
     "text": [
      "Test Loss: 0.5627, Test Accuracy: 0.7261\n"
     ]
    }
   ],
   "source": [
    "# Final evaluation on the test set\n",
    "last_test_loss, last_test_accuracy = evaluate(model, test_loader, criterion)\n",
    "print(f\"Test Loss: {last_test_loss:.4f}, Test Accuracy: {last_test_accuracy:.4f}\")"
   ]
  },
  {
   "cell_type": "markdown",
   "metadata": {},
   "source": [
    "# Answers to Question 3(b)"
   ]
  },
  {
   "cell_type": "markdown",
   "metadata": {},
   "source": [
    "### 3(b): Report the accuracy score on the test set when applying your method to deal with OOV words"
   ]
  },
  {
   "cell_type": "code",
   "execution_count": 64,
   "metadata": {},
   "outputs": [
    {
     "name": "stdout",
     "output_type": "stream",
     "text": [
      "RNN Last State - Validation Accuracy: 0.7083, Test Accuracy: 0.7261\n"
     ]
    }
   ],
   "source": [
    "print(f\"RNN Last State - Validation Accuracy: {last_val_accuracy:.4f}, Test Accuracy: {last_test_accuracy:.4f}\")"
   ]
  },
  {
   "cell_type": "markdown",
   "metadata": {},
   "source": [
    "| Method              | Test Accuracy in Part 2 | Test Accuracy in Part 3.1 | Test Accuracy in Part 3.2 |\n",
    "|---------------------|-----------------------|-------------------------|-------------------------|\n",
    "| RNN Last State      | 0.6135               | 0.7167               | 0.7261 |"
   ]
  },
  {
   "cell_type": "markdown",
   "metadata": {},
   "source": [
    "Based on the Test Accuracy in Part 3.2, we can evidently conclude that the OOV mitigation method in Part 1 has increased the accuracy of the model."
   ]
  }
 ],
 "metadata": {
  "kernelspec": {
   "display_name": "env_pytorch",
   "language": "python",
   "name": "python3"
  },
  "language_info": {
   "codemirror_mode": {
    "name": "ipython",
    "version": 3
   },
   "file_extension": ".py",
   "mimetype": "text/x-python",
   "name": "python",
   "nbconvert_exporter": "python",
   "pygments_lexer": "ipython3",
   "version": "3.11.5"
  }
 },
 "nbformat": 4,
 "nbformat_minor": 2
}
